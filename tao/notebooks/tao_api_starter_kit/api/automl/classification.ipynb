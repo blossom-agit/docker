{
 "cells": [
  {
   "cell_type": "markdown",
   "metadata": {},
   "source": [
    "### Notebook to demonstrate AutoML workflow for TAO classification models\n",
    "\n",
    "Transfer learning is the process of transferring learned features from one application to another. It is a commonly used training technique where you use a model trained on one task and re-train to use it on a different task. Train Adapt Optimize (TAO) Toolkit  is a simple and easy-to-use Python based AI toolkit for taking purpose-built AI models and customizing them with users' own data.\n",
    "\n",
    "![image](https://developer.nvidia.com/sites/default/files/akamai/TAO/tlt-tao-toolkit-bring-your-own-model-diagram.png)\n",
    "\n",
    "\n",
    "### Learning Objective\n",
    "\n",
    "This AutoML notebook applies to identifying the optimal hyperparameters (e.g., learning rate, batch size, weight regularizer, number of layers, etc.) in order to obtain better accuracy results or converge faster on AI models for classification application. \n",
    "- Take a pretrained model and choose automl algorithm/parameters to start AutoML train.\n",
    "- At the end of an AutoML run, you will receive a config file that specifies the best performing model, along with the binary model file to deploy it to your application.\n",
    "\n",
    "\n",
    "### AutoML Workflow\n",
    "\n",
    "User starts with selecting model topology, create and upload dataset, configuring parameters, training with AutoML to comparing the model.\n",
    "\n",
    "![image](https://raw.githubusercontent.com/vpraveen-nv/model_card_images/main/api/automl_workflow.png)\n",
    "\n",
    "\n",
    "### Table of contents\n",
    "\n",
    "1. [Create and upload datasets](#head-1)\n",
    "1. [List the created datasets](#head-2)\n",
    "1. [Dataset convert Action](#head-3)\n",
    "1. [Create model](#head-4)\n",
    "1. [List models](#head-5)\n",
    "1. [Assign train, eval datasets](#head-6)\n",
    "1. [Assign PTM](#head-7)\n",
    "1. [Set AutoML related configurations](#head-8)\n",
    "1. [Actions](#head-9)\n",
    "1. [AutoML Train](#head-10)\n",
    "\n",
    "### Requirements\n",
    "Please find the server requirements [here](https://docs.nvidia.com/tao/tao-toolkit/text/tao_toolkit_api/api_setup.html#)"
   ]
  },
  {
   "cell_type": "code",
   "execution_count": null,
   "metadata": {},
   "outputs": [],
   "source": [
    "import json\n",
    "import os\n",
    "import requests\n",
    "import uuid\n",
    "import time\n",
    "from IPython.display import clear_output"
   ]
  },
  {
   "cell_type": "markdown",
   "metadata": {},
   "source": [
    "### FIXME\n",
    "\n",
    "1. Assign a model_name in FIXME 1\n",
    "2. Assign a workdir in FIXME 2\n",
    "3. Assign the ip_address and port_number in FIXME 3 ([info](https://docs.nvidia.com/tao/tao-toolkit/text/tao_toolkit_api/api_rest_api.html))\n",
    "4. Assign the ngc_api_key variable in FIXME 4\n",
    "5. Choose between default and custom dataset in FIXME5\n",
    "6. Assign path of data directory in FIXME 6\n",
    "7. Choose between Bayesian and Hyperband automl_algorithm in FIXME 7"
   ]
  },
  {
   "cell_type": "code",
   "execution_count": null,
   "metadata": {},
   "outputs": [],
   "source": [
    "# Define model_name workspaces and other variables\n",
    "# Available models (#FIXME 1):\n",
    "# 1. classification - https://docs.nvidia.com/tao/tao-toolkit/text/image_classification.html\n",
    "# 2. multitask_classification - https://docs.nvidia.com/tao/tao-toolkit/text/multitask_image_classification.html\n",
    "# classification is the same as multi-class classification\n",
    "\n",
    "model_name = \"multitask_classification\" # FIXME1 (Add the model name from the above mentioned list)\n",
    "workdir = \"workdir_classification\" # FIXME2\n",
    "host_url = \"http://<ip_address>:<port_number>\" # FIXME3 example: https://10.137.149.22:32334\n",
    "# In host machine, node ip_address and port number can be obtained as follows,\n",
    "# ip_address: hostname -i\n",
    "# port_number: kubectl get service ingress-nginx-controller -o jsonpath='{.spec.ports[0].nodePort}'\n",
    "ngc_api_key = \"<ngc_api_key>\" # FIXME4 example: zZYtczM5amdtdDcwNjk0cnA2bGU2bXQ3bnQ6NmQ4NjNhMDItMTdmZS00Y2QxLWI2ZjktNmE5M2YxZTc0OGyM\n",
    "dataset_to_be_used = \"default\" #FIXME5 example: default/custom; default for the dataset used in this tutorial notebook; custom for a different dataset"
   ]
  },
  {
   "cell_type": "code",
   "execution_count": null,
   "metadata": {},
   "outputs": [],
   "source": [
    "# Exchange NGC_API_KEY for JWT\n",
    "response = requests.get(f\"{host_url}/api/v1/login/{ngc_api_key}\")\n",
    "user_id = response.json()[\"user_id\"]\n",
    "print(\"User ID\",user_id)\n",
    "token = response.json()[\"token\"]\n",
    "print(\"JWT\",token)\n",
    "\n",
    "# Set base URL\n",
    "base_url = f\"{host_url}/api/v1/user/{user_id}\"\n",
    "print(\"API Calls will be forwarded to\",base_url)\n",
    "\n",
    "headers = {\"Authorization\": f\"Bearer {token}\"}"
   ]
  },
  {
   "cell_type": "code",
   "execution_count": null,
   "metadata": {},
   "outputs": [],
   "source": [
    "# Creating workdir\n",
    "if not os.path.isdir(workdir):\n",
    "    os.makedirs(workdir)"
   ]
  },
  {
   "cell_type": "markdown",
   "metadata": {
    "tags": []
   },
   "source": [
    "### Create datasets <a class=\"anchor\" id=\"head-1\"></a>"
   ]
  },
  {
   "cell_type": "markdown",
   "metadata": {},
   "source": [
    "**For multi-class classification:**\n",
    "\n",
    "We will be using the pascal `VOC dataset` for the tutorial. To find more details please visit [here](http://host.robots.ox.ac.uk/pascal/VOC/voc2012/index.html#devkit). Please download the [dataset](http://host.robots.ox.ac.uk/pascal/VOC/voc2012/VOCtrainval_11-May-2012.tar) to the environment variable `$DATA_DIR`."
   ]
  },
  {
   "cell_type": "markdown",
   "metadata": {},
   "source": [
    "**If using custom dataset; it should follow this dataset structure, and skip running** \"**Split dataset into train and val sets**\"\n",
    "```\n",
    "DATA_DIR\n",
    "├── images_test\n",
    "│   ├── class_name_1\n",
    "│   │   ├── image_name_1.jpg\n",
    "│   │   ├── image_name_2.jpg\n",
    "│   │   ├── ...\n",
    "|   |   ... \n",
    "│   └── class_name_n\n",
    "│       ├── image_name_3.jpg\n",
    "│       ├── image_name_4.jpg\n",
    "│       ├── ...\n",
    "├── images_train\n",
    "│   ├── class_name_1\n",
    "│   │   ├── image_name_5.jpg\n",
    "│   │   ├── image_name_6.jpg\n",
    "|   |   ...\n",
    "│   └── class_name_n\n",
    "│       ├── image_name_7.jpg\n",
    "│       ├── image_name_8.jpg\n",
    "│       ├── ...\n",
    "|\n",
    "└── images_val\n",
    "    ├── class_name_1\n",
    "    │   ├── image_name_9.jpg\n",
    "    │   ├── image_name_10.jpg\n",
    "    │   ├── ...\n",
    "    |   ...\n",
    "    └── class_name_n\n",
    "        ├── image_name_11.jpg\n",
    "        ├── image_name_12.jpg\n",
    "        ├── ...\n",
    "```\n",
    "- Each class name folder should contain the images corresponding to that class\n",
    "- Same class name folders should be present across images_test, images_train and images_val"
   ]
  },
  {
   "cell_type": "markdown",
   "metadata": {},
   "source": [
    "**For multi-task classification:**\n",
    "\n",
    "We will be using the `Fashion Product Images (Small)` for the tutorial. This dataset is available on Kaggle.In this tutorial, our trained classification network will perform three tasks: article category classification, base color classification and target season classification.\n",
    "\n",
    "To download the dataset, you will need a Kaggle account. After login, you can download the dataset zip file [here](https://www.kaggle.com/paramaggarwal/fashion-product-images-small). The downloaded file is archive.zip with a subfolder called myntradataset. Unzip contents in this subfolder to your workdir created in the cell above and you should have a folder called images and a CSV file called styles.csv"
   ]
  },
  {
   "cell_type": "markdown",
   "metadata": {},
   "source": [
    "**If using custom dataset; it should follow this dataset structure**\n",
    "```\n",
    "DATA_DIR\n",
    "├── images\n",
    "│   ├── image_name_1.jpg\n",
    "│   ├── image_name_2.jpg\n",
    "|   |   ├── ...\n",
    "├── styles.csv\n",
    "```"
   ]
  },
  {
   "cell_type": "code",
   "execution_count": null,
   "metadata": {},
   "outputs": [],
   "source": [
    "DATA_DIR = model_name # FIXME6\n",
    "os.environ['DATA_DIR']= DATA_DIR\n",
    "!mkdir -p $DATA_DIR"
   ]
  },
  {
   "cell_type": "code",
   "execution_count": null,
   "metadata": {},
   "outputs": [],
   "source": [
    "if dataset_to_be_used == \"default\":\n",
    "    if model_name == \"classification\":\n",
    "        if not os.path.exists(os.path.join(DATA_DIR,\"VOCtrainval_11-May-2012.tar\")):\n",
    "            print(\"Download VOC tar data into \", DATA_DIR)\n",
    "        else:\n",
    "            !tar -xf $DATA_DIR/VOCtrainval_11-May-2012.tar -C $DATA_DIR\n",
    "    elif model_name == \"multitask_classification\":\n",
    "        if not os.path.exists(os.path.join(DATA_DIR,\"archive.zip\")):\n",
    "            print(f\"Download Fashion zip data into \", DATA_DIR)\n",
    "        else:\n",
    "            !unzip -uq $DATA_DIR/archive.zip -d $DATA_DIR/"
   ]
  },
  {
   "cell_type": "markdown",
   "metadata": {},
   "source": [
    "### Split dataset into train and val sets"
   ]
  },
  {
   "cell_type": "code",
   "execution_count": null,
   "metadata": {},
   "outputs": [],
   "source": [
    "# Check the dataset is present\n",
    "if model_name == \"classification\" and dataset_to_be_used == \"default\":\n",
    "    !if [ ! -d $DATA_DIR/VOCdevkit ]; then echo 'Images folder NOT found.'; else echo 'Found images folder.';fi\n",
    "    !rm -rf $DATA_DIR/split\n",
    "elif model_name == \"multitask_classification\":\n",
    "    !if [ ! -d $DATA_DIR/images ]; then echo 'Images folder NOT found.'; else echo 'Found images folder.';fi\n",
    "    !if [ ! -f $DATA_DIR/styles.csv ]; then echo 'CSV file NOT found.'; else echo 'Found CSV file.';fi\n",
    "    # Create subdirectories and remove existing files in them\n",
    "    !mkdir -p $DATA_DIR/images_train && rm -rf $DATA_DIR/images_train/*\n",
    "    !mkdir -p $DATA_DIR/images_val && rm -rf $DATA_DIR/images_val/*\n",
    "    !mkdir -p $DATA_DIR/images_test && rm -rf $DATA_DIR/images_test/*"
   ]
  },
  {
   "cell_type": "code",
   "execution_count": null,
   "metadata": {},
   "outputs": [],
   "source": [
    "# Split dataset into train and val sets\n",
    "!python3 -m pip install numpy\n",
    "!python3 -m pip install pandas\n",
    "if model_name == \"classification\" and dataset_to_be_used == \"default\":\n",
    "    !python3 -m pip install tqdm\n",
    "    from os.path import join as join_path\n",
    "    import os\n",
    "    import glob\n",
    "    import re\n",
    "    import shutil\n",
    "\n",
    "    DATA_DIR=os.environ.get('DATA_DIR')\n",
    "    source_dir = join_path(DATA_DIR, \"VOCdevkit/VOC2012\")\n",
    "    target_dir = join_path(DATA_DIR, \"formatted\")\n",
    "\n",
    "    suffix = '_trainval.txt'\n",
    "    classes_dir = join_path(source_dir, \"ImageSets\", \"Main\")\n",
    "    images_dir = join_path(source_dir, \"JPEGImages\")\n",
    "    classes_files = glob.glob(classes_dir+\"/*\"+suffix)\n",
    "    for file in classes_files:\n",
    "        # get the filename and make output class folder\n",
    "        classname = os.path.basename(file)\n",
    "        if classname.endswith(suffix):\n",
    "            classname = classname[:-len(suffix)]\n",
    "            target_dir_path = join_path(target_dir, classname)\n",
    "            if not os.path.exists(target_dir_path):\n",
    "                os.makedirs(target_dir_path)\n",
    "        else:\n",
    "            continue\n",
    "        print(classname)\n",
    "\n",
    "        with open(file) as f:\n",
    "            content = f.readlines()\n",
    "\n",
    "        for line in content:\n",
    "            tokens = re.split('\\s+', line)\n",
    "            if tokens[1] == '1':\n",
    "                # copy this image into target dir_path\n",
    "                target_file_path = join_path(target_dir_path, tokens[0] + '.jpg')\n",
    "                src_file_path = join_path(images_dir, tokens[0] + '.jpg')\n",
    "                shutil.copyfile(src_file_path, target_file_path)\n",
    "    \n",
    "    from random import shuffle\n",
    "    from tqdm import tqdm\n",
    "\n",
    "    DATA_DIR=os.environ.get('DATA_DIR')\n",
    "    SOURCE_DIR=os.path.join(DATA_DIR, 'formatted')\n",
    "    TARGET_DIR=os.path.join(DATA_DIR,'split')\n",
    "    # list dir\n",
    "    print(os.walk(SOURCE_DIR))\n",
    "    dir_list = next(os.walk(SOURCE_DIR))[1]\n",
    "    # for each dir, create a new dir in split\n",
    "    for dir_i in tqdm(dir_list):\n",
    "        newdir_train = os.path.join(TARGET_DIR, 'images_train', dir_i)\n",
    "        newdir_val = os.path.join(TARGET_DIR, 'images_val', dir_i)\n",
    "        newdir_test = os.path.join(TARGET_DIR, 'images_test', dir_i)\n",
    "\n",
    "        if not os.path.exists(newdir_train):\n",
    "                os.makedirs(newdir_train)\n",
    "        if not os.path.exists(newdir_val):\n",
    "                os.makedirs(newdir_val)\n",
    "        if not os.path.exists(newdir_test):\n",
    "                os.makedirs(newdir_test)\n",
    "\n",
    "        img_list = glob.glob(os.path.join(SOURCE_DIR, dir_i, '*.jpg'))\n",
    "        # shuffle data\n",
    "        shuffle(img_list)\n",
    "\n",
    "        for j in range(int(len(img_list)*0.7)):\n",
    "                shutil.copy2(img_list[j], os.path.join(TARGET_DIR, 'images_train', dir_i))\n",
    "\n",
    "        for j in range(int(len(img_list)*0.7), int(len(img_list)*0.8)):\n",
    "                shutil.copy2(img_list[j], os.path.join(TARGET_DIR, 'images_val', dir_i))\n",
    "\n",
    "        for j in range(int(len(img_list)*0.8), len(img_list)):\n",
    "                shutil.copy2(img_list[j], os.path.join(TARGET_DIR, 'images_test', dir_i))\n",
    "\n",
    "    print('Done splitting dataset.')\n",
    "\n",
    "elif model_name == \"multitask_classification\" and dataset_to_be_used == \"default\":\n",
    "    !python3 -m pip install numpy\n",
    "    !python3 -m pip install pandas\n",
    "    import os\n",
    "    import shutil\n",
    "    import numpy as np\n",
    "    import pandas as pd\n",
    "\n",
    "    df = pd.read_csv(os.environ['DATA_DIR'] + '/styles.csv', error_bad_lines=False, warn_bad_lines=False)\n",
    "    df = df[['id', 'baseColour', 'subCategory', 'season']]\n",
    "    df = df.dropna()\n",
    "    category_cls = df.subCategory.value_counts()[:10].index # 10-class multitask-classification\n",
    "    season_cls = ['Spring', 'Summer', 'Fall', 'Winter'] # 4-class multitask-classification\n",
    "    color_cls = df.baseColour.value_counts()[:11].index # 11-class multitask-classification\n",
    "\n",
    "    # Get all valid rows\n",
    "    df = df[df.subCategory.isin(category_cls) & df.season.isin(season_cls) & df.baseColour.isin(color_cls)]\n",
    "    df.columns = ['fname', 'base_color', 'category', 'season']\n",
    "    df.fname = df.fname.astype(str)\n",
    "    df.fname = df.fname + '.jpg'\n",
    "\n",
    "    # remove entries whose image file is missing\n",
    "    all_img_files = os.listdir(os.environ['DATA_DIR'] + '/images')\n",
    "    df = df[df.fname.isin(all_img_files)]\n",
    "\n",
    "    idx = np.arange(len(df))\n",
    "    np.random.shuffle(idx)\n",
    "\n",
    "    train_split_idx = int(len(df)*0.8)\n",
    "    train_df = df.iloc[idx[:train_split_idx]]\n",
    "    val_df = df.iloc[idx[train_split_idx:]]\n",
    "\n",
    "    # Add a simple sanity check\n",
    "    assert len(train_df.season.unique()) == 4 and len(train_df.base_color.unique()) == 11 and \\\n",
    "        len(train_df.category.unique()) == 10, 'Training set misses some classes, re-run this cell!'\n",
    "    assert len(val_df.season.unique()) == 4 and len(val_df.base_color.unique()) == 11 and \\\n",
    "        len(val_df.category.unique()) == 10, 'Validation set misses some classes, re-run this cell!'\n",
    "\n",
    "    for image_name in train_df[\"fname\"]:\n",
    "        source_file_name = os.path.join(DATA_DIR, \"images\", image_name)\n",
    "        destination_file_name = os.path.join(DATA_DIR, \"images_train\", image_name)\n",
    "        shutil.copy(source_file_name, destination_file_name)\n",
    "\n",
    "    for image_name in val_df[\"fname\"]:\n",
    "        source_file_name = os.path.join(DATA_DIR, \"images\", image_name)\n",
    "        destination_file_name = os.path.join(DATA_DIR, \"images_train\", image_name)\n",
    "        shutil.copy(source_file_name, destination_file_name)\n",
    "        destination_file_name = os.path.join(DATA_DIR, \"images_val\", image_name)\n",
    "        shutil.copy(source_file_name, destination_file_name)\n",
    "\n",
    "    # save processed data labels\n",
    "    train_df.to_csv(os.environ['DATA_DIR'] + '/train.csv', index=False)\n",
    "    val_df.to_csv(os.environ['DATA_DIR'] + '/val.csv', index=False)"
   ]
  },
  {
   "cell_type": "markdown",
   "metadata": {},
   "source": [
    "### Verify the dataset split"
   ]
  },
  {
   "cell_type": "code",
   "execution_count": null,
   "metadata": {},
   "outputs": [],
   "source": [
    "# verify\n",
    "if model_name == \"classification\":\n",
    "    !if [ ! -d $DATA_DIR/split/images_train ]; then echo 'train folder NOT found.'; else echo 'Found train images folder.';fi\n",
    "    !if [ ! -d $DATA_DIR/split/images_val ]; then echo 'val folder NOT found.'; else echo 'Found val images folder.';fi\n",
    "    !if [ ! -d $DATA_DIR/split/images_test ]; then echo 'test folder NOT found.'; else echo 'Found test images folder.';fi\n",
    "elif model_name == \"multitask_classification\":\n",
    "    import pandas as pd\n",
    "\n",
    "    print(\"Number of images in the train set. {}\".format(\n",
    "        len(pd.read_csv(os.environ['DATA_DIR'] + '/train.csv'))\n",
    "    ))\n",
    "    print(\"Number of images in the validation set. {}\".format(\n",
    "        len(pd.read_csv(os.environ['DATA_DIR'] + '/val.csv'))\n",
    "    ))"
   ]
  },
  {
   "cell_type": "markdown",
   "metadata": {},
   "source": [
    "### Create Tar files to upload"
   ]
  },
  {
   "cell_type": "code",
   "execution_count": null,
   "metadata": {},
   "outputs": [],
   "source": [
    "if model_name == \"classification\":\n",
    "    !tar -C $DATA_DIR/split/ -czf classification_train.tar.gz images_train\n",
    "    !tar -C $DATA_DIR/split/ -czf classification_val.tar.gz images_val\n",
    "elif model_name == \"multitask_classification\":\n",
    "    !tar -C $DATA_DIR/ -czf mt_classification_train.tar.gz images_train train.csv val.csv\n",
    "    !tar -C $DATA_DIR/ -czf mt_classification_val.tar.gz images_val val.csv"
   ]
  },
  {
   "cell_type": "code",
   "execution_count": null,
   "metadata": {},
   "outputs": [],
   "source": [
    "if model_name == \"classification\":\n",
    "    train_dataset_path =  \"classification_train.tar.gz\"\n",
    "    eval_dataset_path = \"classification_val.tar.gz\"\n",
    "elif model_name == \"multitask_classification\":\n",
    "    train_dataset_path =  \"mt_classification_train.tar.gz\"\n",
    "    eval_dataset_path = \"mt_classification_val.tar.gz\""
   ]
  },
  {
   "cell_type": "markdown",
   "metadata": {},
   "source": [
    "### Create and upload datasets"
   ]
  },
  {
   "cell_type": "code",
   "execution_count": null,
   "metadata": {},
   "outputs": [],
   "source": [
    "# Create train dataset\n",
    "ds_type = \"image_classification\"\n",
    "if model_name == \"classification\":\n",
    "    ds_format = \"default\"\n",
    "elif model_name == \"multitask_classification\":\n",
    "    ds_format = \"custom\"\n",
    "\n",
    "data = json.dumps({\"type\":ds_type,\"format\":ds_format})\n",
    "\n",
    "endpoint = f\"{base_url}/dataset\"\n",
    "\n",
    "response = requests.post(endpoint,data=data,headers=headers)\n",
    "\n",
    "print(response)\n",
    "print(response.json())\n",
    "dataset_id = response.json()[\"id\"]"
   ]
  },
  {
   "cell_type": "code",
   "execution_count": null,
   "metadata": {},
   "outputs": [],
   "source": [
    "# Update\n",
    "dataset_information = {\"name\":\"Train dataset\",\n",
    "                       \"description\":\"My train dataset\"}\n",
    "data = json.dumps(dataset_information)\n",
    "\n",
    "endpoint = f\"{base_url}/dataset/{dataset_id}\"\n",
    "\n",
    "response = requests.patch(endpoint, data=data, headers=headers)\n",
    "\n",
    "print(response)\n",
    "print(response.json())"
   ]
  },
  {
   "cell_type": "code",
   "execution_count": null,
   "metadata": {
    "scrolled": true
   },
   "outputs": [],
   "source": [
    "# Upload\n",
    "files = [(\"file\",open(train_dataset_path,\"rb\"))]\n",
    "\n",
    "endpoint = f\"{base_url}/dataset/{dataset_id}/upload\"\n",
    "\n",
    "response = requests.post(endpoint, files=files, headers=headers)\n",
    "\n",
    "print(response)\n",
    "print(response.json())"
   ]
  },
  {
   "cell_type": "code",
   "execution_count": null,
   "metadata": {},
   "outputs": [],
   "source": [
    "# Create eval dataset\n",
    "ds_type = \"image_classification\"\n",
    "ds_format = \"default\"\n",
    "data = json.dumps({\"type\":ds_type,\"format\":ds_format})\n",
    "\n",
    "endpoint = f\"{base_url}/dataset\"\n",
    "\n",
    "response = requests.post(endpoint,data=data,headers=headers)\n",
    "\n",
    "print(response)\n",
    "print(response.json())\n",
    "eval_dataset_id = response.json()[\"id\"]"
   ]
  },
  {
   "cell_type": "code",
   "execution_count": null,
   "metadata": {},
   "outputs": [],
   "source": [
    "# Update\n",
    "dataset_information = {\"name\":\"Eval dataset\",\n",
    "                       \"description\":\"My eval dataset\"}\n",
    "data = json.dumps(dataset_information)\n",
    "\n",
    "endpoint = f\"{base_url}/dataset/{eval_dataset_id}\"\n",
    "\n",
    "response = requests.patch(endpoint, data=data, headers=headers)\n",
    "\n",
    "print(response)\n",
    "print(response.json())"
   ]
  },
  {
   "cell_type": "code",
   "execution_count": null,
   "metadata": {},
   "outputs": [],
   "source": [
    "# Upload\n",
    "files = [(\"file\",open(eval_dataset_path,\"rb\"))]\n",
    "\n",
    "endpoint = f\"{base_url}/dataset/{eval_dataset_id}/upload\"\n",
    "\n",
    "response = requests.post(endpoint, files=files, headers=headers)\n",
    "\n",
    "print(response)\n",
    "print(response.json())"
   ]
  },
  {
   "cell_type": "markdown",
   "metadata": {},
   "source": [
    "### List the created datasets <a class=\"anchor\" id=\"head-2\"></a>"
   ]
  },
  {
   "cell_type": "code",
   "execution_count": null,
   "metadata": {},
   "outputs": [],
   "source": [
    "endpoint = f\"{base_url}/dataset\"\n",
    "\n",
    "response = requests.get(endpoint, headers=headers)\n",
    "\n",
    "print(response)\n",
    "# print(response.json()) ## Uncomment for verbose list output\n",
    "print(\"id\\t\\t\\t\\t\\t type\\t\\t\\t format\\t\\t name\")\n",
    "for rsp in response.json():\n",
    "    print(rsp[\"id\"],\"\\t\",rsp[\"type\"],\"\\t\",rsp[\"format\"],\"\\t\\t\",rsp[\"name\"])"
   ]
  },
  {
   "cell_type": "markdown",
   "metadata": {},
   "source": [
    "### Create model <a class=\"anchor\" id=\"head-4\"></a>"
   ]
  },
  {
   "cell_type": "code",
   "execution_count": null,
   "metadata": {},
   "outputs": [],
   "source": [
    "network_arch = model_name\n",
    "if network_arch == \"classification\":\n",
    "    encode_key = \"nvidia_tlt\"\n",
    "else:\n",
    "    encode_key = \"tlt_encode\"\n",
    "data = json.dumps({\"network_arch\":network_arch,\"encryption_key\":encode_key})\n",
    "\n",
    "endpoint = f\"{base_url}/model\"\n",
    "\n",
    "response = requests.post(endpoint,data=data,headers=headers)\n",
    "\n",
    "print(response)\n",
    "print(response.json())\n",
    "model_id = response.json()[\"id\"]"
   ]
  },
  {
   "cell_type": "markdown",
   "metadata": {},
   "source": [
    "### List models <a class=\"anchor\" id=\"head-5\"></a>"
   ]
  },
  {
   "cell_type": "code",
   "execution_count": null,
   "metadata": {
    "scrolled": true
   },
   "outputs": [],
   "source": [
    "endpoint = f\"{base_url}/model\"\n",
    "\n",
    "response = requests.get(endpoint, headers=headers)\n",
    "\n",
    "print(response)\n",
    "# print(response.json()) ## Uncomment for verbose list output\n",
    "print(\"model id\\t\\t\\t     network architecture\")\n",
    "for rsp in response.json():\n",
    "    print(rsp[\"id\"],rsp[\"network_arch\"])"
   ]
  },
  {
   "cell_type": "markdown",
   "metadata": {},
   "source": [
    "### Assign train, eval datasets <a class=\"anchor\" id=\"head-6\"></a>\n",
    "\n",
    "- Note: make sure the order for train_datasets is [source ID, target ID]\n",
    "- eval_dataset is kept same as target for demo purposes\n",
    "- inference_dataset is kept as target for chaining with hifigan finetune"
   ]
  },
  {
   "cell_type": "code",
   "execution_count": null,
   "metadata": {},
   "outputs": [],
   "source": [
    "dataset_information = {\"train_datasets\":[dataset_id],\n",
    "                       \"eval_dataset\":eval_dataset_id}\n",
    "data = json.dumps(dataset_information)\n",
    "\n",
    "endpoint = f\"{base_url}/model/{model_id}\"\n",
    "\n",
    "response = requests.patch(endpoint, data=data, headers=headers)\n",
    "\n",
    "print(response)\n",
    "print(response.json())"
   ]
  },
  {
   "cell_type": "markdown",
   "metadata": {},
   "source": [
    "### Assign PTM <a class=\"anchor\" id=\"head-7\"></a>\n",
    "\n",
    "Search for pretrained models on NGC and assign it to the model"
   ]
  },
  {
   "cell_type": "code",
   "execution_count": null,
   "metadata": {},
   "outputs": [],
   "source": [
    "# Assigning pretrained models to different classification models\n",
    "# print base_url+\"/model\" to get the details of all pretrained models and make the appropriate changes to this map for experiments like for example \n",
    "# you are changing the number of layers to 34, then you have to make the appropriate change in the pretrained model name\n",
    "# print(base_url+\"/model\")\n",
    "pretrained_map = {\"classification\" : \"pretrained_classification:resnet18\",\n",
    "                  \"multitask_classification\" : \"pretrained_classification:resnet10\"}"
   ]
  },
  {
   "cell_type": "code",
   "execution_count": null,
   "metadata": {},
   "outputs": [],
   "source": [
    "# Get pretrained model for classification\n",
    "model_list = f\"{base_url}/model\"\n",
    "response = requests.get(model_list, headers=headers)\n",
    "\n",
    "response_json = response.json()\n",
    "\n",
    "# Search for ptm with given ngc path\n",
    "ptm_id = None\n",
    "for rsp in response_json:\n",
    "    if rsp[\"network_arch\"] == network_arch and rsp[\"ngc_path\"].endswith(pretrained_map[network_arch]):\n",
    "        ptm_id = rsp[\"id\"]\n",
    "        print(\"Metadata for model with requested NGC Path\")\n",
    "        print(rsp)\n",
    "        break\n",
    "mt_class_ptm = ptm_id"
   ]
  },
  {
   "cell_type": "code",
   "execution_count": null,
   "metadata": {},
   "outputs": [],
   "source": [
    "ptm_information = {\"ptm\":mt_class_ptm}\n",
    "data = json.dumps(ptm_information)\n",
    "\n",
    "endpoint = f\"{base_url}/model/{model_id}\"\n",
    "\n",
    "response = requests.patch(endpoint, data=data, headers=headers)\n",
    "\n",
    "print(response)\n",
    "print(response.json())"
   ]
  },
  {
   "cell_type": "markdown",
   "metadata": {},
   "source": [
    "### View hyperparameters that are enabled for AutoML by default"
   ]
  },
  {
   "cell_type": "code",
   "execution_count": null,
   "metadata": {},
   "outputs": [],
   "source": [
    "# Get default spec schema\n",
    "endpoint = f\"{base_url}/model/{model_id}/specs/train/schema\"\n",
    "\n",
    "response = requests.get(endpoint, headers=headers)\n",
    "specs = response.json()[\"automl_default_parameters\"]\n",
    "\n",
    "import json\n",
    "print(json.dumps(specs, sort_keys=True, indent=4))"
   ]
  },
  {
   "cell_type": "markdown",
   "metadata": {},
   "source": [
    "### Set AutoML related configurations <a class=\"anchor\" id=\"head-8\"></a>\n",
    "Refer to these hyper-links to see the parameters supported by each network and add more parameters if necessary in addition to the default automl enabled parameters: [Multiclass_classification](https://docs.nvidia.com/tao/tao-toolkit/text/tao_toolkit_api/api_action_specs.html#train), \n",
    "[Multitask_classification](https://docs.nvidia.com/tao/tao-toolkit/text/tao_toolkit_api/api_action_specs.html#id27)"
   ]
  },
  {
   "cell_type": "code",
   "execution_count": null,
   "metadata": {
    "scrolled": true
   },
   "outputs": [],
   "source": [
    "# Choose automl algorithm between \"Bayesian\" and \"HyperBand\".\n",
    "automl_algorithm=\"Bayesian\" # FIXME7 example: Bayesian/HyperBand\n",
    "metric=\"kpi\" # don't change, more metrics will be supported in the future\n",
    "\n",
    "additional_automl_parameters = [] #Refer to parameter list mentioned in the above links and add any extra parameter in addition to the default enabled ones\n",
    "remove_default_automl_parameters = [] #Remove any hyperparameters that are enabled by default for AutoML\n",
    "\n",
    "automl_information = {\"automl_enabled\":True,\n",
    "                      \"automl_algorithm\":automl_algorithm,\n",
    "                      \"metric\":metric,\n",
    "                      \"automl_add_hyperparameters\":str(additional_automl_parameters),\n",
    "                      \"automl_remove_hyperparameters\":str(remove_default_automl_parameters)\n",
    "                     }\n",
    "data = json.dumps(automl_information)\n",
    "\n",
    "endpoint = f\"{base_url}/model/{model_id}\"\n",
    "\n",
    "response = requests.patch(endpoint, data=data, headers=headers)\n",
    "\n",
    "print(response)\n",
    "import json\n",
    "print(json.dumps(response.json(), sort_keys=True, indent=4))"
   ]
  },
  {
   "cell_type": "markdown",
   "metadata": {},
   "source": [
    "### Actions <a class=\"anchor\" id=\"head-9\"></a>\n",
    "\n",
    "For all actions:\n",
    "1. Get default spec schema and derive the default values\n",
    "2. Modify defaults if needed\n",
    "3. Post spec dictionary to the service\n",
    "4. Run model action\n",
    "5. Monitor job using retrieve\n",
    "6. Download results using job download endpoint (if needed)"
   ]
  },
  {
   "cell_type": "code",
   "execution_count": null,
   "metadata": {},
   "outputs": [],
   "source": [
    "job_map = {}"
   ]
  },
  {
   "cell_type": "markdown",
   "metadata": {},
   "source": [
    "### AutoML Train <a class=\"anchor\" id=\"head-10\"></a>"
   ]
  },
  {
   "cell_type": "code",
   "execution_count": null,
   "metadata": {
    "scrolled": true
   },
   "outputs": [],
   "source": [
    "# Get default spec schema\n",
    "endpoint = f\"{base_url}/model/{model_id}/specs/train/schema\"\n",
    "\n",
    "response = requests.get(endpoint, headers=headers)\n",
    "\n",
    "specs = response.json()[\"default\"]\n",
    "\n",
    "import json\n",
    "print(json.dumps(specs, sort_keys=True, indent=4))"
   ]
  },
  {
   "cell_type": "code",
   "execution_count": null,
   "metadata": {},
   "outputs": [],
   "source": [
    "# Override any of the parameters listed in the previous cell as required\n",
    "# Example for multitask-classification (for each network the parameter key might be different)\n",
    "specs[\"training_config\"][\"num_epochs\"] = 10\n",
    "# Example for classification\n",
    "# specs[\"train_config\"][\"n_epochs\"] = 80"
   ]
  },
  {
   "cell_type": "code",
   "execution_count": null,
   "metadata": {
    "scrolled": true
   },
   "outputs": [],
   "source": [
    "# Post spec\n",
    "data = json.dumps(specs)\n",
    "\n",
    "endpoint = f\"{base_url}/model/{model_id}/specs/train\"\n",
    "\n",
    "response = requests.post(endpoint,data=data, headers=headers)\n",
    "\n",
    "print(response)\n",
    "import json\n",
    "print(json.dumps(response.json(), sort_keys=True, indent=4))"
   ]
  },
  {
   "cell_type": "code",
   "execution_count": null,
   "metadata": {
    "scrolled": true
   },
   "outputs": [],
   "source": [
    "# Run action\n",
    "parent = None\n",
    "actions = [\"train\"]\n",
    "data = json.dumps({\"job\":parent,\"actions\":actions})\n",
    "\n",
    "endpoint = f\"{base_url}/model/{model_id}/job\"\n",
    "\n",
    "response = requests.post(endpoint, data=data, headers=headers)\n",
    "\n",
    "print(response)\n",
    "print(response.json())\n",
    "\n",
    "job_map[\"train\"] = response.json()[0]\n",
    "print(job_map)"
   ]
  },
  {
   "cell_type": "code",
   "execution_count": null,
   "metadata": {},
   "outputs": [],
   "source": [
    "# Monitor automl job status by repeatedly running this cell\n",
    "# Training times for different models benchmarked on 1 GPU V100 machine can be found here: https://docs.nvidia.com/tao/tao-toolkit/text/automl/automl.html#results-of-automl-experiments\n",
    "\n",
    "job_id = job_map['train']\n",
    "endpoint = f\"{base_url}/model/{model_id}/job/{job_id}\"\n",
    "\n",
    "while True:\n",
    "    clear_output(wait=True)\n",
    "    response = requests.get(endpoint, headers=headers)\n",
    "    print(response)\n",
    "    print(json.dumps(response.json(), sort_keys=True, indent=4))\n",
    "    if response.json().get(\"status\") in [\"Done\",\"Error\"] or response.status_code not in (200,201):\n",
    "        break\n",
    "    time.sleep(15)"
   ]
  },
  {
   "cell_type": "code",
   "execution_count": null,
   "metadata": {},
   "outputs": [],
   "source": [
    "## To Stop an AutoML JOB\n",
    "#    1. Stop the 'Monitor automl job status by repeatedly running this cell' cell (the cell right before this cell) manually\n",
    "#    2. Uncomment the snippet in the next cell and run the cell"
   ]
  },
  {
   "cell_type": "code",
   "execution_count": null,
   "metadata": {},
   "outputs": [],
   "source": [
    "# job_id = job_map['train']\n",
    "# endpoint = f\"{base_url}/model/{model_id}/job/{job_id}/cancel\"\n",
    "\n",
    "# response = requests.post(endpoint, headers=headers)\n",
    "\n",
    "# print(response)\n",
    "# print(response.json())"
   ]
  },
  {
   "cell_type": "code",
   "execution_count": null,
   "metadata": {},
   "outputs": [],
   "source": [
    "## Resume AutoML"
   ]
  },
  {
   "cell_type": "code",
   "execution_count": null,
   "metadata": {
    "scrolled": true
   },
   "outputs": [],
   "source": [
    "# Uncomment the below snippet if you want to resume an already stopped AutoML job and then run the 'Monitor automl job status by repeatedly running this cell' cell above (4th cell above from this cell)\n",
    "# job_id = job_map['train']\n",
    "# endpoint = f\"{base_url}/model/{model_id}/job/{job_id}/resume\"\n",
    "\n",
    "# response = requests.post(endpoint, headers=headers)\n",
    "\n",
    "# print(response)\n",
    "# print(response.json())"
   ]
  },
  {
   "cell_type": "code",
   "execution_count": null,
   "metadata": {},
   "outputs": [],
   "source": [
    "# Download automl job contents once the above job shows \"Done\" status\n",
    "# Download output of automl (multitask_classification) train (Note: will take time)\n",
    "job_id = job_map[\"train\"]\n",
    "endpoint = f'{base_url}/model/{model_id}/job/{job_id}/download'\n",
    "\n",
    "# Save\n",
    "temptar = f'{job_id}.tar.gz'\n",
    "with requests.get(endpoint, headers=headers, stream=True) as r:\n",
    "    r.raise_for_status()\n",
    "    with open(temptar, 'wb') as f:\n",
    "        for chunk in r.iter_content(chunk_size=8192):\n",
    "            f.write(chunk)\n",
    "\n",
    "print(\"Untarring\")\n",
    "\n",
    "# Untar to destination\n",
    "tar_command = f'tar -xvf {temptar} -C {workdir}/'\n",
    "os.system(tar_command)\n",
    "os.remove(temptar)\n",
    "print(f\"Results at {workdir}/{job_id}\")\n",
    "model_downloaded_path = f\"{workdir}/{job_id}\""
   ]
  },
  {
   "cell_type": "code",
   "execution_count": null,
   "metadata": {},
   "outputs": [],
   "source": [
    "# View best performing model's config, model file; Also view the results of all automl experiments\n",
    "!python3 -m pip install pandas\n",
    "import pandas as pd\n",
    "\n",
    "best_model_path = f\"{model_downloaded_path}/best_model\"\n",
    "\n",
    "if os.path.exists(best_model_path):        \n",
    "    #List the binary model file\n",
    "    print(\"\\nCheckpoints for the best performing experiment\")\n",
    "    if os.path.exists(best_model_path+\"/weights\") and len(os.listdir(best_model_path+\"/weights\")) > 0:\n",
    "        print(f\"Folder: {best_model_path}/weights\")\n",
    "        print(\"Files:\", os.listdir(best_model_path+\"/weights\"))\n",
    "    else:\n",
    "        print(f\"Folder: {best_model_path}\")\n",
    "        print(\"Files:\", os.listdir(best_model_path))\n",
    "\n",
    "    experiment_artifacts = json.load(open(f\"{best_model_path}/controller.json\",\"r\"))\n",
    "    data_frame = pd.DataFrame(experiment_artifacts)\n",
    "    # Print experiment id/number and the corresponding result\n",
    "    print(\"\\nResults of all experiments\")\n",
    "    with pd.option_context('display.max_rows', None, 'display.max_columns', None, 'display.max_colwidth', None):\n",
    "        print(data_frame[[\"id\",\"result\"]])\n",
    "\n",
    "    print(\"\\nConfig/Spec file for the best performing experiment (recommendation_id.kitti with the maximum result value in the dataframe)\")\n",
    "    # List the recommendation config file of the best performing checkpoint(recommendation_id.kitti with the maximum result value in the dataframe)\n",
    "    !ls {best_model_path}/*.kitti "
   ]
  }
 ],
 "metadata": {
  "kernelspec": {
   "display_name": "Python 3 (ipykernel)",
   "language": "python",
   "name": "python3"
  },
  "language_info": {
   "codemirror_mode": {
    "name": "ipython",
    "version": 3
   },
   "file_extension": ".py",
   "mimetype": "text/x-python",
   "name": "python",
   "nbconvert_exporter": "python",
   "pygments_lexer": "ipython3",
   "version": "3.9.5"
  },
  "vscode": {
   "interpreter": {
    "hash": "0176b978fea70e8efb4f5e74a0b6bfa62aa53530715601eb0e3f3e57f5e7f7d5"
   }
  }
 },
 "nbformat": 4,
 "nbformat_minor": 5
}
